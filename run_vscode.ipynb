{
  "nbformat": 4,
  "nbformat_minor": 0,
  "metadata": {
    "colab": {
      "provenance": [],
      "authorship_tag": "ABX9TyM6/aOgZhQCgL9mXo8HBTya",
      "include_colab_link": true
    },
    "kernelspec": {
      "name": "python3",
      "display_name": "Python 3"
    },
    "language_info": {
      "name": "python"
    },
    "accelerator": "GPU",
    "gpuClass": "standard"
  },
  "cells": [
    {
      "cell_type": "markdown",
      "metadata": {
        "id": "view-in-github",
        "colab_type": "text"
      },
      "source": [
        "<a href=\"https://colab.research.google.com/github/dani-ctes/machine_learning_notebooks/blob/main/run_vscode.ipynb\" target=\"_parent\"><img src=\"https://colab.research.google.com/assets/colab-badge.svg\" alt=\"Open In Colab\"/></a>"
      ]
    },
    {
      "cell_type": "code",
      "execution_count": null,
      "metadata": {
        "colab": {
          "base_uri": "https://localhost:8080/"
        },
        "id": "JYCly2z6K-vK",
        "outputId": "d194aa89-22d9-42ac-d9bf-53e5cb19589a"
      },
      "source": [
        "!pip install colabcode"
      ]
    },
    {
      "cell_type": "code",
      "source": [
        "from colabcode import ColabCode"
      ],
      "metadata": {
        "id": "NmJJ-TlhMgt-"
      },
      "execution_count": null,
      "outputs": []
    },
    {
      "cell_type": "code",
      "source": [
        "ColabCode(port=10000)"
      ],
      "metadata": {
        "colab": {
          "base_uri": "https://localhost:8080/"
        },
        "id": "danADV7XNTdh",
        "outputId": "979435ce-fd68-4851-971a-b5f2ff1cdaa6"
      },
      "execution_count": null,
      "outputs": [
        {
          "output_type": "stream",
          "name": "stdout",
          "text": [
            "Code Server can be accessed on: NgrokTunnel: \"https://61b3-35-227-134-210.ngrok.io\" -> \"http://localhost:10000\"\n",
            "[2023-03-27T21:10:55.725Z] info  code-server 3.10.2 387b12ef4ca404ffd39d84834e1f0776e9e3c005\n",
            "[2023-03-27T21:10:55.726Z] info  Using user-data-dir ~/.local/share/code-server\n",
            "[2023-03-27T21:10:55.745Z] info  Using config file ~/.config/code-server/config.yaml\n",
            "[2023-03-27T21:10:55.745Z] info  HTTP server listening on http://127.0.0.1:10000 \n",
            "[2023-03-27T21:10:55.745Z] info    - Authentication is disabled \n",
            "[2023-03-27T21:10:55.745Z] info    - Not serving HTTPS \n"
          ]
        }
      ]
    }
  ]
}
